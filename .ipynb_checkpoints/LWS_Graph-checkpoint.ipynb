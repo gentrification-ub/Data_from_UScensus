{
 "cells": [
  {
   "cell_type": "code",
   "execution_count": null,
   "metadata": {},
   "outputs": [],
   "source": []
  },
  {
   "cell_type": "code",
   "execution_count": 100,
   "metadata": {},
   "outputs": [
    {
     "name": "stdout",
     "output_type": "stream",
     "text": [
      "136\n",
      "104\n",
      "107\n",
      "90\n",
      "121\n",
      "76\n",
      "148\n",
      "92\n"
     ]
    },
    {
     "data": {
      "image/png": "[encoded data removed]",
      "text/plain": [
       "<Figure size 720x720 with 2 Axes>"
      ]
     },
     "metadata": {
      "needs_background": "light"
     },
     "output_type": "display_data"
    }
   ],
   "source": [
    "'''\n",
    "  Note: The way a map is formed onto a graph is by taking the data points, which contains its coordinates, and plotting it onto the graph based \n",
    "  on longitude and latitude. Thus,this requires a lot data to get the outline of how the physical location looks like. Since Lower West Side has\n",
    "  only 8 data points, and the other areas having similar quantity, we are not able to produce a graph that looks like a map with this method.\n",
    "  \n",
    "  However, we are trying to use the data produced in this file by merging it with the shapefile.\n",
    "  \n",
    "  Resource used: https://www.kaggle.com/muonneutrino/mapping-new-york-city-census-data\n",
    "'''\n",
    "#Code taken from \n",
    "import random as ran\n",
    "def convert_to_2d(lats,lons,values):\n",
    "    latmin = 42.88\n",
    "    lonmin = -78.9095821\n",
    "    latmax = 42.91\n",
    "    lonmax = -78.86\n",
    "    lon_vals = np.mgrid[lonmin:lonmax:200j]\n",
    "    lat_vals = np.mgrid[latmin:latmax:200j]\n",
    "    map_values = np.zeros([200,200])\n",
    "    dlat = lat_vals[1] - lat_vals[0]\n",
    "    dlon = lon_vals[1] - lon_vals[0]\n",
    "    for lat,lon,value in zip(lats,lons,values):\n",
    "        lat_idx = int(np.rint((lat - latmin) / dlat)) \n",
    "        lon_idx = int(np.rint((lon-lonmin) / dlon ))   \n",
    "        print(lat_idx)\n",
    "        if not np.isnan(value):\n",
    "            # VOLTAIRE ADDITION -- inside the ran uniform should be the edges of the shape file \n",
    "            for x in range(int(value) * 50): # this is to make the data visible\n",
    "                ran_lon_idx, ran_lat_idx = int(np.rint(ran.uniform(-5,5)) + lon_idx), int(np.rint(ran.uniform(-5,5)) + lat_idx)  \n",
    "                if ran_lat_idx < 200 and ran_lon_idx < 200: \n",
    "                    map_values[ran_lon_idx,ran_lat_idx] = value\n",
    "            # -- \n",
    "    return lat_vals,lon_vals,map_values\n",
    "\n",
    "def make_plot(data_values,title='',colors='Greens'):\n",
    "    lat_vals,lon_vals,values = convert_to_2d(blocks.INTPTLAT10,blocks.INTPTLON10,data_values)\n",
    "   \n",
    "    fig = plt.figure(1,figsize=[10,10])\n",
    "    limits = np.min(lon_vals),np.max(lon_vals),np.min(lat_vals),np.max(lat_vals)\n",
    "   \n",
    "    im = plt.imshow(values.T,origin='lower',cmap=colors,extent=limits)\n",
    "    plt.xlabel('Longitude [degrees]')\n",
    "    plt.ylabel('Latitude [degrees]')\n",
    "    plt.title(title)\n",
    "\n",
    "    plt.colorbar(im,fraction=0.035, pad=0.04)\n",
    "    plt.show()\n",
    "    \n",
    "import numpy as np \n",
    "import pandas as pd \n",
    "import matplotlib.pyplot as plt\n",
    "%matplotlib inline\n",
    "\n",
    "blocks = pd.read_csv('Block_Groups_data.csv') #https://data.buffalony.gov/Government/Block-Groups/i76q-u5zs\n",
    "census = pd.read_csv('LowerWestSide_Data.csv',index_col=0) #Get this file from LowerWestSide_py\n",
    "\n",
    "blocks = pd.merge(blocks,census,on=['Tract','Block Group'])\n",
    "\n",
    "#blocks['Percent of Total Number of Vacant Housing Units'] = blocks['Percent of Total Number of Vacant Housing Units'] * 10 \n",
    "make_plot(blocks['Percent of Total Number of Vacant Housing Units'],colors='Blues',title='Percent of Total Number of Vacant Housing Units')"
   ]
  },
  {
   "cell_type": "code",
   "execution_count": null,
   "metadata": {},
   "outputs": [],
   "source": []
  }
 ],
 "metadata": {
  "kernelspec": {
   "display_name": "Python 3",
   "language": "python",
   "name": "python3"
  },
  "language_info": {
   "codemirror_mode": {
    "name": "ipython",
    "version": 3
   },
   "file_extension": ".py",
   "mimetype": "text/x-python",
   "name": "python",
   "nbconvert_exporter": "python",
   "pygments_lexer": "ipython3",
   "version": "3.7.3"
  }
 },
 "nbformat": 4,
 "nbformat_minor": 2
}
